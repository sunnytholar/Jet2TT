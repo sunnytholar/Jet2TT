{
 "cells": [
  {
   "cell_type": "code",
   "execution_count": 102,
   "metadata": {},
   "outputs": [],
   "source": [
    "#Basic Python Libraries\n",
    "import pandas as pd\n",
    "import numpy as np\n",
    "import sklearn\n",
    "import matplotlib.pyplot as plt\n",
    "%matplotlib inline\n",
    "import seaborn as sns\n",
    "from sklearn.model_selection import train_test_split\n",
    "\n",
    "#Pre Processing libraries\n",
    "import string\n",
    "import re\n",
    "import nltk\n",
    "from nltk.corpus import stopwords\n",
    "from nltk.stem.wordnet import WordNetLemmatizer\n",
    "lemma = WordNetLemmatizer()\n",
    "from sklearn import preprocessing\n",
    "\n",
    "#Packages for feature engineering:\n",
    "from sklearn.feature_extraction.text import CountVectorizer\n",
    "from sklearn.feature_extraction.text import TfidfVectorizer\n",
    "\n",
    "#Import Machine Learning Models:\n",
    "from sklearn.naive_bayes import MultinomialNB\n",
    "from sklearn.linear_model import LogisticRegression\n",
    "from sklearn.svm import LinearSVC\n",
    "from sklearn.ensemble import RandomForestClassifier\n",
    "from xgboost import XGBClassifier\n",
    "\n",
    "#Import metrics for valdation:\n",
    "from sklearn.metrics import confusion_matrix,classification_report,accuracy_score\n",
    "\n",
    "#For imbalanced data\n",
    "from imblearn.over_sampling import SMOTE\n",
    "\n"
   ]
  },
  {
   "cell_type": "code",
   "execution_count": 103,
   "metadata": {},
   "outputs": [],
   "source": [
    "#Replace Desktop in below script by the folder name where you have  kept the python script  & the input file,\n",
    "df = pd.read_csv(\"~\\\\Desktop\\\\Usecase3_Dataset.csv\")\n",
    "\n"
   ]
  },
  {
   "cell_type": "code",
   "execution_count": 104,
   "metadata": {},
   "outputs": [
    {
     "name": "stdout",
     "output_type": "stream",
     "text": [
      "(14640, 3)\n",
      "Index(['airline_sentiment', 'airline', 'text'], dtype='object')\n"
     ]
    }
   ],
   "source": [
    "print(df.shape)\n",
    "print(df.columns)"
   ]
  },
  {
   "cell_type": "code",
   "execution_count": 105,
   "metadata": {},
   "outputs": [
    {
     "data": {
      "text/plain": [
       "United            3822\n",
       "US Airways        2913\n",
       "American          2759\n",
       "Southwest         2420\n",
       "Delta             2222\n",
       "Virgin America     504\n",
       "Name: airline, dtype: int64"
      ]
     },
     "execution_count": 105,
     "metadata": {},
     "output_type": "execute_result"
    }
   ],
   "source": [
    "#Number of sentiments againts each airline\n",
    "df['airline'].value_counts()"
   ]
  },
  {
   "cell_type": "code",
   "execution_count": 106,
   "metadata": {},
   "outputs": [
    {
     "data": {
      "text/plain": [
       "airline_sentiment    0\n",
       "airline              0\n",
       "text                 0\n",
       "dtype: int64"
      ]
     },
     "execution_count": 106,
     "metadata": {},
     "output_type": "execute_result"
    }
   ],
   "source": [
    "#Check for missing values in the dataset\n",
    "df.isnull().sum()"
   ]
  },
  {
   "cell_type": "code",
   "execution_count": 107,
   "metadata": {},
   "outputs": [
    {
     "data": {
      "text/plain": [
       "negative    62.691257\n",
       "neutral     21.168033\n",
       "positive    16.140710\n",
       "Name: airline_sentiment, dtype: float64"
      ]
     },
     "execution_count": 107,
     "metadata": {},
     "output_type": "execute_result"
    }
   ],
   "source": [
    "#Distrubtion of sentiments\n",
    "df['airline_sentiment'].value_counts()/len(df)*100\n",
    "#63% of feedback is negative"
   ]
  },
  {
   "cell_type": "code",
   "execution_count": 108,
   "metadata": {},
   "outputs": [
    {
     "data": {
      "image/png": "[encoded data removed]",
      "text/plain": [
       "<Figure size 432x288 with 1 Axes>"
      ]
     },
     "metadata": {},
     "output_type": "display_data"
    }
   ],
   "source": [
    "#Graphical representation of airline sentiment\n",
    "sns.countplot(x='airline_sentiment',data=df,order=['negative','neutral','positive'])\n",
    "plt.show()"
   ]
  },
  {
   "cell_type": "code",
   "execution_count": 109,
   "metadata": {},
   "outputs": [
    {
     "data": {
      "image/png": "[encoded data removed]",
      "text/plain": [
       "<Figure size 648x432 with 6 Axes>"
      ]
     },
     "metadata": {},
     "output_type": "display_data"
    }
   ],
   "source": [
    "#Graphical representation of airline sentiment for different airlines\n",
    "sns.factorplot(x = 'airline_sentiment',data=df,\n",
    "               order = ['negative','neutral','positive'],kind = 'count',col='airline',size=3,col_wrap = 3)\n",
    "              \n",
    "plt.show()\n",
    "\n",
    "#From below plot we can see customer are not happy with airline United , US Airways and American \n",
    "#& have lots of negative feedback"
   ]
  },
  {
   "cell_type": "code",
   "execution_count": 110,
   "metadata": {},
   "outputs": [
    {
     "data": {
      "text/html": [
       "<div>\n",
       "<style scoped>\n",
       "    .dataframe tbody tr th:only-of-type {\n",
       "        vertical-align: middle;\n",
       "    }\n",
       "\n",
       "    .dataframe tbody tr th {\n",
       "        vertical-align: top;\n",
       "    }\n",
       "\n",
       "    .dataframe thead th {\n",
       "        text-align: right;\n",
       "    }\n",
       "</style>\n",
       "<table border=\"1\" class=\"dataframe\">\n",
       "  <thead>\n",
       "    <tr style=\"text-align: right;\">\n",
       "      <th>airline_sentiment</th>\n",
       "      <th>negative</th>\n",
       "      <th>neutral</th>\n",
       "      <th>positive</th>\n",
       "    </tr>\n",
       "    <tr>\n",
       "      <th>airline</th>\n",
       "      <th></th>\n",
       "      <th></th>\n",
       "      <th></th>\n",
       "    </tr>\n",
       "  </thead>\n",
       "  <tbody>\n",
       "    <tr>\n",
       "      <th>American</th>\n",
       "      <td>0.710402</td>\n",
       "      <td>0.167814</td>\n",
       "      <td>0.121783</td>\n",
       "    </tr>\n",
       "    <tr>\n",
       "      <th>Delta</th>\n",
       "      <td>0.429793</td>\n",
       "      <td>0.325383</td>\n",
       "      <td>0.244824</td>\n",
       "    </tr>\n",
       "    <tr>\n",
       "      <th>Southwest</th>\n",
       "      <td>0.490083</td>\n",
       "      <td>0.274380</td>\n",
       "      <td>0.235537</td>\n",
       "    </tr>\n",
       "    <tr>\n",
       "      <th>US Airways</th>\n",
       "      <td>0.776862</td>\n",
       "      <td>0.130793</td>\n",
       "      <td>0.092345</td>\n",
       "    </tr>\n",
       "    <tr>\n",
       "      <th>United</th>\n",
       "      <td>0.688906</td>\n",
       "      <td>0.182365</td>\n",
       "      <td>0.128728</td>\n",
       "    </tr>\n",
       "    <tr>\n",
       "      <th>Virgin America</th>\n",
       "      <td>0.359127</td>\n",
       "      <td>0.339286</td>\n",
       "      <td>0.301587</td>\n",
       "    </tr>\n",
       "  </tbody>\n",
       "</table>\n",
       "</div>"
      ],
      "text/plain": [
       "airline_sentiment  negative   neutral  positive\n",
       "airline                                        \n",
       "American           0.710402  0.167814  0.121783\n",
       "Delta              0.429793  0.325383  0.244824\n",
       "Southwest          0.490083  0.274380  0.235537\n",
       "US Airways         0.776862  0.130793  0.092345\n",
       "United             0.688906  0.182365  0.128728\n",
       "Virgin America     0.359127  0.339286  0.301587"
      ]
     },
     "execution_count": 110,
     "metadata": {},
     "output_type": "execute_result"
    }
   ],
   "source": [
    "pd.crosstab(df['airline'],df['airline_sentiment']).apply(lambda r: r/r.sum(), axis=1)\n",
    "#From below cross table we can see airlines United , US Airways and American  have more then 70% negative sentiments\n"
   ]
  },
  {
   "cell_type": "code",
   "execution_count": 111,
   "metadata": {},
   "outputs": [
    {
     "data": {
      "text/plain": [
       "Index(['airline_sentiment', 'airline', 'text'], dtype='object')"
      ]
     },
     "execution_count": 111,
     "metadata": {},
     "output_type": "execute_result"
    }
   ],
   "source": [
    "df.columns"
   ]
  },
  {
   "cell_type": "code",
   "execution_count": 112,
   "metadata": {},
   "outputs": [],
   "source": [
    "#Data pre processing\n",
    "#remove words which are starts with @ symbols\n",
    "df['text'] = df['text'].map(lambda x:re.sub('@\\w*','',str(x)))\n",
    "#remove special characters except [a-zA-Z]\n",
    "df['text'] = df['text'].map(lambda x:re.sub('[^a-zA-Z]',' ',str(x)))\n",
    "#remove link starts with https\n",
    "df['text'] = df['text'].map(lambda x:re.sub('http.*','',str(x)))"
   ]
  },
  {
   "cell_type": "code",
   "execution_count": 113,
   "metadata": {},
   "outputs": [],
   "source": [
    "stop = set(stopwords.words('english'))\n",
    "exclude = set(string.punctuation)\n",
    "corpus = df['text']\n",
    "\n",
    "def clean(doc):\n",
    "    doc = doc.lower()\n",
    "    #Stopword Removal\n",
    "    #Punctuation Removal\n",
    "    #Lemmatization to convert words to it root form\n",
    "    stop_free = \" \".join([i for i in doc.lower().split() if i not in stop])\n",
    "    punc_free = ''.join(ch for ch in stop_free if ch not in exclude)\n",
    "    normalized = \" \".join(lemma.lemmatize(word, pos = 'v' ) for word in punc_free.split())\n",
    "    return normalized\n",
    "    \n",
    "\n",
    "corpus = [clean(doc) for doc in corpus]"
   ]
  },
  {
   "cell_type": "code",
   "execution_count": 114,
   "metadata": {},
   "outputs": [],
   "source": [
    "df['text_cleaned'] = corpus"
   ]
  },
  {
   "cell_type": "code",
   "execution_count": 115,
   "metadata": {},
   "outputs": [],
   "source": [
    "#Label encoding:\n",
    "label_encoder = preprocessing.LabelEncoder()\n",
    "df['airline_sentiment_encoded'] = label_encoder.fit_transform(list(df['airline_sentiment']))\n"
   ]
  },
  {
   "cell_type": "code",
   "execution_count": 116,
   "metadata": {},
   "outputs": [
    {
     "data": {
      "text/plain": [
       "0    9178\n",
       "1    3099\n",
       "2    2363\n",
       "Name: airline_sentiment_encoded, dtype: int64"
      ]
     },
     "execution_count": 116,
     "metadata": {},
     "output_type": "execute_result"
    }
   ],
   "source": [
    "df['airline_sentiment_encoded'].value_counts()"
   ]
  },
  {
   "cell_type": "code",
   "execution_count": 117,
   "metadata": {},
   "outputs": [
    {
     "data": {
      "text/plain": [
       "['negative', 'neutral', 'positive']"
      ]
     },
     "execution_count": 117,
     "metadata": {},
     "output_type": "execute_result"
    }
   ],
   "source": [
    "#To check  what labels are  given\n",
    "list(label_encoder.classes_)\n"
   ]
  },
  {
   "cell_type": "code",
   "execution_count": 118,
   "metadata": {},
   "outputs": [
    {
     "data": {
      "text/plain": [
       "['negative', 'neutral', 'positive']"
      ]
     },
     "execution_count": 118,
     "metadata": {},
     "output_type": "execute_result"
    }
   ],
   "source": [
    "#To get exact label  name from values\n",
    "list(label_encoder.inverse_transform([0, 1, 2]))"
   ]
  },
  {
   "cell_type": "code",
   "execution_count": 119,
   "metadata": {},
   "outputs": [],
   "source": [
    "#Create X(independent) and y(dependent) variables for further  split\n",
    "X = df['text_cleaned']\n",
    "y = df['airline_sentiment_encoded']"
   ]
  },
  {
   "cell_type": "code",
   "execution_count": 120,
   "metadata": {},
   "outputs": [
    {
     "name": "stdout",
     "output_type": "stream",
     "text": [
      "(11712,) (2928,) (11712,) (2928,)\n"
     ]
    }
   ],
   "source": [
    "X_train,X_test,y_train,y_test = train_test_split(X,y,test_size=0.2,random_state=0)\n",
    "print(X_train.shape,X_test.shape,y_train.shape,y_test.shape)"
   ]
  },
  {
   "cell_type": "code",
   "execution_count": 121,
   "metadata": {},
   "outputs": [],
   "source": [
    "#Feature Engineering \n",
    "#CountVectorizer \n",
    "vect = CountVectorizer()\n",
    "#Fit the training data:\n",
    "vect.fit(X_train)\n",
    "#Transform the training & testing data\n",
    "X_train_count_vect = vect.transform(X_train)\n",
    "X_test_count_vect = vect.transform(X_test)"
   ]
  },
  {
   "cell_type": "code",
   "execution_count": 122,
   "metadata": {},
   "outputs": [],
   "source": [
    "#CountVectorizer with ngram\n",
    "vect_ngram = CountVectorizer(ngram_range = (1,2))\n",
    "#Fit the training data:\n",
    "vect_ngram.fit(X_train)\n",
    "#Transform the training & testing data\n",
    "X_train_count_vect_ngram = vect_ngram.transform(X_train)\n",
    "X_test_count_vect_ngram = vect_ngram.transform(X_test)"
   ]
  },
  {
   "cell_type": "code",
   "execution_count": 123,
   "metadata": {},
   "outputs": [],
   "source": [
    "#TfidfVectorizer with ngram\n",
    "vect_tf = TfidfVectorizer(ngram_range = (1,2),max_features=50000)\n",
    "vect_tf.fit(X_train)\n",
    "#Transform the training & testing data\n",
    "X_train_tfidf = vect_tf.transform(X_train)\n",
    "X_test_tfidf = vect_tf.transform(X_test)"
   ]
  },
  {
   "cell_type": "code",
   "execution_count": 124,
   "metadata": {},
   "outputs": [
    {
     "data": {
      "text/plain": [
       "50000"
      ]
     },
     "execution_count": 124,
     "metadata": {},
     "output_type": "execute_result"
    }
   ],
   "source": [
    "#Count number  of features \n",
    "len(vect_tf.get_feature_names())"
   ]
  },
  {
   "cell_type": "code",
   "execution_count": 125,
   "metadata": {},
   "outputs": [
    {
     "data": {
      "text/plain": [
       "MultinomialNB(alpha=0.1, class_prior=None, fit_prior=False)"
      ]
     },
     "execution_count": 125,
     "metadata": {},
     "output_type": "execute_result"
    }
   ],
   "source": [
    "#Naive Bayes Model:\n",
    "#Initilization:\n",
    "nb_count_vect = MultinomialNB(alpha = 0.10,fit_prior = False)\n",
    "nb_count_vect_ngram = MultinomialNB(alpha = 0.10,fit_prior = False)\n",
    "nb_tfidf = MultinomialNB(alpha = 0.10,fit_prior = False)\n",
    "#Train the model:\n",
    "import random\n",
    "random.seed(110)\n",
    "nb_count_vect.fit(X_train_count_vect,y_train)\n",
    "nb_count_vect_ngram.fit(X_train_count_vect_ngram,y_train)\n",
    "nb_tfidf.fit(X_train_tfidf,y_train)"
   ]
  },
  {
   "cell_type": "code",
   "execution_count": 126,
   "metadata": {},
   "outputs": [],
   "source": [
    "#Prediction on test data:\n",
    "y_pred_nb_count_vect = nb_count_vect.predict(X_test_count_vect)\n",
    "y_pred_nb_count_vect_ngram = nb_count_vect_ngram.predict(X_test_count_vect_ngram)\n",
    "y_pred_nb_tfidf = nb_tfidf.predict(X_test_tfidf)"
   ]
  },
  {
   "cell_type": "code",
   "execution_count": 127,
   "metadata": {},
   "outputs": [
    {
     "name": "stdout",
     "output_type": "stream",
     "text": [
      "Naive Bayes Model With CountVectorizer: 0.7564890710382514\n",
      "Naive Bayes Model With CountVectorizer & ngram: 0.7687841530054644\n",
      "Naive Bayes Model With TFIDF & ngram: 0.7756147540983607\n"
     ]
    }
   ],
   "source": [
    "#Calculate accuracy of class prediction:\n",
    "print('Naive Bayes Model With CountVectorizer:',accuracy_score(y_test,y_pred_nb_count_vect))\n",
    "print('Naive Bayes Model With CountVectorizer & ngram:',accuracy_score(y_test,y_pred_nb_count_vect_ngram))\n",
    "print('Naive Bayes Model With TFIDF & ngram:',accuracy_score(y_test,y_pred_nb_tfidf))"
   ]
  },
  {
   "cell_type": "code",
   "execution_count": 128,
   "metadata": {
    "scrolled": true
   },
   "outputs": [
    {
     "name": "stdout",
     "output_type": "stream",
     "text": [
      "Naive Bayes Model With CountVectorizer:\n",
      "              precision    recall  f1-score   support\n",
      "\n",
      "           0       0.88      0.81      0.84      1870\n",
      "           1       0.55      0.59      0.57       614\n",
      "           2       0.62      0.74      0.68       444\n",
      "\n",
      "    accuracy                           0.76      2928\n",
      "   macro avg       0.68      0.72      0.70      2928\n",
      "weighted avg       0.77      0.76      0.76      2928\n",
      "\n",
      "Naive Bayes Model With CountVectorizer & ngram:\n",
      "              precision    recall  f1-score   support\n",
      "\n",
      "           0       0.85      0.86      0.85      1870\n",
      "           1       0.60      0.55      0.57       614\n",
      "           2       0.65      0.70      0.68       444\n",
      "\n",
      "    accuracy                           0.77      2928\n",
      "   macro avg       0.70      0.70      0.70      2928\n",
      "weighted avg       0.77      0.77      0.77      2928\n",
      "\n",
      "Naive Bayes Model With TFIDF & ngram:\n",
      "              precision    recall  f1-score   support\n",
      "\n",
      "           0       0.84      0.89      0.86      1870\n",
      "           1       0.62      0.52      0.57       614\n",
      "           2       0.69      0.66      0.67       444\n",
      "\n",
      "    accuracy                           0.78      2928\n",
      "   macro avg       0.71      0.69      0.70      2928\n",
      "weighted avg       0.77      0.78      0.77      2928\n",
      "\n"
     ]
    }
   ],
   "source": [
    "print('Naive Bayes Model With CountVectorizer:')\n",
    "print(classification_report(y_test,y_pred_nb_count_vect))\n",
    "print('Naive Bayes Model With CountVectorizer & ngram:')\n",
    "print(classification_report(y_test,y_pred_nb_count_vect_ngram))\n",
    "print('Naive Bayes Model With TFIDF & ngram:')\n",
    "print(classification_report(y_test,y_pred_nb_tfidf))"
   ]
  },
  {
   "cell_type": "code",
   "execution_count": 129,
   "metadata": {},
   "outputs": [],
   "source": [
    "#From above classification reoport its seen we are getting decent f1 score with TFID + Ngram.\n",
    "#So we will try other machine models with TFIDF + ngram\n",
    "#One thing to notice is eventhough overall F1 score is 77% f1 score for 1 and 2 is less."
   ]
  },
  {
   "cell_type": "code",
   "execution_count": 130,
   "metadata": {},
   "outputs": [
    {
     "name": "stderr",
     "output_type": "stream",
     "text": [
      "C:\\Users\\sunny\\Anaconda3\\lib\\site-packages\\sklearn\\linear_model\\_logistic.py:940: ConvergenceWarning: lbfgs failed to converge (status=1):\n",
      "STOP: TOTAL NO. of ITERATIONS REACHED LIMIT.\n",
      "\n",
      "Increase the number of iterations (max_iter) or scale the data as shown in:\n",
      "    https://scikit-learn.org/stable/modules/preprocessing.html\n",
      "Please also refer to the documentation for alternative solver options:\n",
      "    https://scikit-learn.org/stable/modules/linear_model.html#logistic-regression\n",
      "  extra_warning_msg=_LOGISTIC_SOLVER_CONVERGENCE_MSG)\n"
     ]
    }
   ],
   "source": [
    "#Logistic Regression Model:\n",
    "#Initilization:\n",
    "model_log = LogisticRegression()\n",
    "\n",
    "#Train the model:\n",
    "random.seed(150)\n",
    "model_log.fit(X_train_tfidf,y_train)\n",
    "\n",
    "#Prediction on test data:\n",
    "y_pred_model_log = model_log.predict(X_test_tfidf)\n",
    "\n"
   ]
  },
  {
   "cell_type": "code",
   "execution_count": 131,
   "metadata": {},
   "outputs": [
    {
     "name": "stdout",
     "output_type": "stream",
     "text": [
      "Logistic Regression Model With TFIDF & ngram: 0.7773224043715847\n"
     ]
    }
   ],
   "source": [
    "#Calculate accuracy of class prediction:\n",
    "print('Logistic Regression Model With TFIDF & ngram:',accuracy_score(y_test,y_pred_model_log))\n"
   ]
  },
  {
   "cell_type": "code",
   "execution_count": 132,
   "metadata": {},
   "outputs": [
    {
     "name": "stdout",
     "output_type": "stream",
     "text": [
      "Logistic Regression Model With TFIDF & ngram:\n",
      "              precision    recall  f1-score   support\n",
      "\n",
      "           0       0.78      0.96      0.86      1870\n",
      "           1       0.71      0.38      0.50       614\n",
      "           2       0.82      0.55      0.66       444\n",
      "\n",
      "    accuracy                           0.78      2928\n",
      "   macro avg       0.77      0.63      0.67      2928\n",
      "weighted avg       0.77      0.78      0.75      2928\n",
      "\n"
     ]
    }
   ],
   "source": [
    "print('Logistic Regression Model With TFIDF & ngram:')\n",
    "print(classification_report(y_test,y_pred_model_log))"
   ]
  },
  {
   "cell_type": "code",
   "execution_count": 133,
   "metadata": {},
   "outputs": [],
   "source": [
    "#Support Vector Machine Model:\n",
    "#Initilization:\n",
    "model_svm = LinearSVC(random_state=0)\n",
    "#Train the model:\n",
    "random.seed(200)\n",
    "model_svm.fit(X_train_tfidf,y_train)\n",
    "\n",
    "#Prediction on test data:\n",
    "y_pred_model_svm = model_svm.predict(X_test_tfidf)"
   ]
  },
  {
   "cell_type": "code",
   "execution_count": 134,
   "metadata": {},
   "outputs": [
    {
     "name": "stdout",
     "output_type": "stream",
     "text": [
      "SVM Model With TFIDF & ngram: 0.7889344262295082\n"
     ]
    }
   ],
   "source": [
    "#Calculate accuracy of class prediction:\n",
    "print('SVM Model With TFIDF & ngram:',accuracy_score(y_test,y_pred_model_svm))\n"
   ]
  },
  {
   "cell_type": "code",
   "execution_count": 135,
   "metadata": {},
   "outputs": [
    {
     "name": "stdout",
     "output_type": "stream",
     "text": [
      "SVM Model With TFIDF & ngram:\n",
      "              precision    recall  f1-score   support\n",
      "\n",
      "           0       0.82      0.93      0.87      1870\n",
      "           1       0.65      0.47      0.55       614\n",
      "           2       0.77      0.64      0.70       444\n",
      "\n",
      "    accuracy                           0.79      2928\n",
      "   macro avg       0.75      0.68      0.71      2928\n",
      "weighted avg       0.78      0.79      0.78      2928\n",
      "\n"
     ]
    }
   ],
   "source": [
    "print('SVM Model With TFIDF & ngram:')\n",
    "print(classification_report(y_test,y_pred_model_svm))"
   ]
  },
  {
   "cell_type": "code",
   "execution_count": 136,
   "metadata": {},
   "outputs": [],
   "source": [
    "#Running SMOTE to resolve issue of imbalanced data\n",
    "smt = SMOTE(random_state = 777,k_neighbors = 1)\n",
    "X_SMOTE,y_SMOTE = smt.fit_sample(X_train_tfidf,y_train)"
   ]
  },
  {
   "cell_type": "code",
   "execution_count": 137,
   "metadata": {},
   "outputs": [],
   "source": [
    "#Support Vector Machine Model with SMOTE:\n",
    "#Initilization:\n",
    "model_svm_smote = LinearSVC(random_state=0,tol=1e-5)\n",
    "#Train the model:\n",
    "random.seed(800)\n",
    "model_svm_smote.fit(X_SMOTE,y_SMOTE)\n",
    "\n",
    "#Prediction on test data:\n",
    "y_pred_model_svm_smote = model_svm_smote.predict(X_test_tfidf)"
   ]
  },
  {
   "cell_type": "code",
   "execution_count": 138,
   "metadata": {},
   "outputs": [
    {
     "name": "stdout",
     "output_type": "stream",
     "text": [
      "SVM Model With TFIDF & ngram: 0.7776639344262295\n"
     ]
    }
   ],
   "source": [
    "#Calculate accuracy of class prediction:\n",
    "print('SVM Model With TFIDF & ngram:',accuracy_score(y_test,y_pred_model_svm_smote))"
   ]
  },
  {
   "cell_type": "code",
   "execution_count": 139,
   "metadata": {},
   "outputs": [
    {
     "name": "stdout",
     "output_type": "stream",
     "text": [
      "SVM Model With TFIDF & ngram:\n",
      "              precision    recall  f1-score   support\n",
      "\n",
      "           0       0.83      0.91      0.87      1870\n",
      "           1       0.62      0.50      0.55       614\n",
      "           2       0.72      0.61      0.66       444\n",
      "\n",
      "    accuracy                           0.78      2928\n",
      "   macro avg       0.72      0.67      0.69      2928\n",
      "weighted avg       0.77      0.78      0.77      2928\n",
      "\n"
     ]
    }
   ],
   "source": [
    "print('SVM Model With TFIDF & ngram:')\n",
    "print(classification_report(y_test,y_pred_model_svm_smote))"
   ]
  },
  {
   "cell_type": "code",
   "execution_count": 140,
   "metadata": {},
   "outputs": [
    {
     "name": "stdout",
     "output_type": "stream",
     "text": [
      "21924\n",
      "11712\n"
     ]
    }
   ],
   "source": [
    "print(len(y_SMOTE))\n",
    "print(len(y_train))"
   ]
  },
  {
   "cell_type": "code",
   "execution_count": 141,
   "metadata": {},
   "outputs": [],
   "source": [
    "#Random Forest Model:\n",
    "#Initilization:\n",
    "model_rf = RandomForestClassifier()\n",
    "#Train the model:\n",
    "random.seed(231)\n",
    "model_rf.fit(X_train_tfidf,y_train)\n",
    "\n",
    "#Prediction on test data:\n",
    "y_pred_model_rf = model_rf.predict(X_test_tfidf)"
   ]
  },
  {
   "cell_type": "code",
   "execution_count": 142,
   "metadata": {},
   "outputs": [
    {
     "name": "stdout",
     "output_type": "stream",
     "text": [
      "Random Forest Model With TFIDF & ngram: 0.7667349726775956\n"
     ]
    }
   ],
   "source": [
    "#Calculate accuracy of class prediction:\n",
    "print('Random Forest Model With TFIDF & ngram:',accuracy_score(y_test,y_pred_model_rf))"
   ]
  },
  {
   "cell_type": "code",
   "execution_count": 143,
   "metadata": {},
   "outputs": [
    {
     "name": "stdout",
     "output_type": "stream",
     "text": [
      "Random Forest Model With TFIDF & ngram:\n",
      "              precision    recall  f1-score   support\n",
      "\n",
      "           0       0.81      0.91      0.85      1870\n",
      "           1       0.61      0.49      0.54       614\n",
      "           2       0.75      0.55      0.64       444\n",
      "\n",
      "    accuracy                           0.77      2928\n",
      "   macro avg       0.72      0.65      0.68      2928\n",
      "weighted avg       0.76      0.77      0.76      2928\n",
      "\n"
     ]
    }
   ],
   "source": [
    "print('Random Forest Model With TFIDF & ngram:')\n",
    "print(classification_report(y_test,y_pred_model_rf))"
   ]
  },
  {
   "cell_type": "code",
   "execution_count": 144,
   "metadata": {},
   "outputs": [],
   "source": [
    "#XG Boosting:\n",
    "#Initilization:\n",
    "model_xgb = XGBClassifier()\n",
    "#Train the model:\n",
    "random.seed(305)\n",
    "model_xgb.fit(X_train_tfidf,y_train)\n",
    "\n",
    "#Prediction on test data:\n",
    "y_pred_model_xgb = model_xgb.predict(X_test_tfidf)"
   ]
  },
  {
   "cell_type": "code",
   "execution_count": 145,
   "metadata": {},
   "outputs": [
    {
     "name": "stdout",
     "output_type": "stream",
     "text": [
      "XGB Model With TFIDF & ngram: 0.766051912568306\n"
     ]
    }
   ],
   "source": [
    "#Calculate accuracy of class prediction:\n",
    "print('XGB Model With TFIDF & ngram:',accuracy_score(y_test,y_pred_model_xgb))\n"
   ]
  },
  {
   "cell_type": "code",
   "execution_count": 146,
   "metadata": {},
   "outputs": [
    {
     "name": "stdout",
     "output_type": "stream",
     "text": [
      "XGB Model With TFIDF & ngram:\n",
      "              precision    recall  f1-score   support\n",
      "\n",
      "           0       0.80      0.91      0.85      1870\n",
      "           1       0.64      0.44      0.52       614\n",
      "           2       0.71      0.64      0.67       444\n",
      "\n",
      "    accuracy                           0.77      2928\n",
      "   macro avg       0.72      0.66      0.68      2928\n",
      "weighted avg       0.75      0.77      0.75      2928\n",
      "\n"
     ]
    }
   ],
   "source": [
    "print('XGB Model With TFIDF & ngram:')\n",
    "print(classification_report(y_test,y_pred_model_xgb))"
   ]
  },
  {
   "cell_type": "code",
   "execution_count": 147,
   "metadata": {},
   "outputs": [
    {
     "data": {
      "text/plain": [
       "\"Grid Search CV\\nfrom sklearn.model_selection import GridSearchCV\\ngrid_mod = RandomForestClassifier()\\nparameters = {'max_depth' : [3,5,10],'n_estimators' : [100,200,300,400,500],\\n             'max_features' : [5000,10000,15000], 'criterion' : ['gini','entropy']}\\ngrid_search = GridSearchCV(estimator = grid_mod, param_grid = parameters, scoring = 'accuracy',\\n                           cv = 5,n_jobs = -1)\\ngrid_search = grid_search.fit(X_train_tfidf,y_train)\\nprint(grid_search.best_score_)\\nprint(grid_search.best_params_)\\n\""
      ]
     },
     "execution_count": 147,
     "metadata": {},
     "output_type": "execute_result"
    }
   ],
   "source": [
    "'''Grid Search CV\n",
    "from sklearn.model_selection import GridSearchCV\n",
    "grid_mod = RandomForestClassifier()\n",
    "parameters = {'max_depth' : [3,5,10],'n_estimators' : [100,200,300,400,500],\n",
    "             'max_features' : [5000,10000,15000], 'criterion' : ['gini','entropy']}\n",
    "grid_search = GridSearchCV(estimator = grid_mod, param_grid = parameters, scoring = 'accuracy',\n",
    "                           cv = 5,n_jobs = -1)\n",
    "grid_search = grid_search.fit(X_train_tfidf,y_train)\n",
    "print(grid_search.best_score_)\n",
    "print(grid_search.best_params_)\n",
    "'''"
   ]
  },
  {
   "cell_type": "code",
   "execution_count": 148,
   "metadata": {},
   "outputs": [],
   "source": [
    "#Identification of themes among different airlines:\n",
    "#Function to fecth  top words from sentiments\n",
    "def get_top_n_words(n_top_words, count_vectorizer, text_data):\n",
    "    '''\n",
    "    returns a tuple of the top n words in a sample and their \n",
    "    accompanying counts, given a CountVectorizer object and text sample\n",
    "    '''\n",
    "    vectorized_headlines = count_vectorizer.fit_transform(text_data.values)\n",
    "    vectorized_total = np.sum(vectorized_headlines, axis=0)\n",
    "    word_indices = np.flip(np.argsort(vectorized_total)[0,:], 1)\n",
    "    word_values = np.flip(np.sort(vectorized_total)[0,:],1)\n",
    "    \n",
    "    word_vectors = np.zeros((n_top_words, vectorized_headlines.shape[1]))\n",
    "    for i in range(n_top_words):\n",
    "        word_vectors[i,word_indices[0,i]] = 1\n",
    "\n",
    "    words = [word[0].encode('ascii').decode('utf-8') for \n",
    "             word in count_vectorizer.inverse_transform(word_vectors)]\n",
    "\n",
    "    return (words, word_values[0,:n_top_words].tolist()[0])"
   ]
  },
  {
   "cell_type": "code",
   "execution_count": 149,
   "metadata": {},
   "outputs": [
    {
     "data": {
      "text/plain": [
       "Index(['airline_sentiment', 'airline', 'text', 'text_cleaned',\n",
       "       'airline_sentiment_encoded'],\n",
       "      dtype='object')"
      ]
     },
     "execution_count": 149,
     "metadata": {},
     "output_type": "execute_result"
    }
   ],
   "source": [
    "df.columns\n"
   ]
  },
  {
   "cell_type": "code",
   "execution_count": 150,
   "metadata": {},
   "outputs": [
    {
     "data": {
      "text/plain": [
       "negative    9178\n",
       "neutral     3099\n",
       "positive    2363\n",
       "Name: airline_sentiment, dtype: int64"
      ]
     },
     "execution_count": 150,
     "metadata": {},
     "output_type": "execute_result"
    }
   ],
   "source": [
    "df['airline_sentiment'].value_counts()"
   ]
  },
  {
   "cell_type": "code",
   "execution_count": 151,
   "metadata": {},
   "outputs": [
    {
     "data": {
      "text/plain": [
       "United            3822\n",
       "US Airways        2913\n",
       "American          2759\n",
       "Southwest         2420\n",
       "Delta             2222\n",
       "Virgin America     504\n",
       "Name: airline, dtype: int64"
      ]
     },
     "execution_count": 151,
     "metadata": {},
     "output_type": "execute_result"
    }
   ],
   "source": [
    "df['airline'].value_counts()"
   ]
  },
  {
   "cell_type": "code",
   "execution_count": 152,
   "metadata": {},
   "outputs": [],
   "source": [
    "df_united = df[(df['airline'] == 'United') & (df['airline_sentiment'] == 'negative')]\n",
    "df_usairways = df[(df['airline'] == 'US Airways') & (df['airline_sentiment'] == 'negative')]\n",
    "df_american = df[(df['airline'] == 'American') & (df['airline_sentiment'] == 'negative')]\n",
    "df_southwest = df[(df['airline'] == 'Southwest') & (df['airline_sentiment'] == 'negative')]\n",
    "df_delta = df[(df['airline'] == 'Delta') & (df['airline_sentiment'] == 'negative')]\n",
    "df_virgin = df[(df['airline'] == 'Virgin America') & (df['airline_sentiment'] == 'negative')]"
   ]
  },
  {
   "cell_type": "code",
   "execution_count": 153,
   "metadata": {},
   "outputs": [],
   "source": [
    "def word_chart(negative_sent,val):\n",
    "    count_vectorizer = CountVectorizer(stop_words='english')\n",
    "    words, word_values = get_top_n_words(n_top_words=15,count_vectorizer=count_vectorizer, text_data=negative_sent)\n",
    "    fig, ax = plt.subplots(figsize=(16,8))\n",
    "    ax.bar(range(len(words)), word_values);\n",
    "    ax.set_xticks(range(len(words)));\n",
    "    ax.set_xticklabels(words, rotation='vertical');\n",
    "    ax.set_title(val);\n",
    "    ax.set_xlabel('Word');\n",
    "    ax.set_ylabel('Number of occurences');\n",
    "    plt.show()"
   ]
  },
  {
   "cell_type": "code",
   "execution_count": 154,
   "metadata": {},
   "outputs": [
    {
     "data": {
      "image/png": "[encoded data removed]",
      "text/plain": [
       "<Figure size 1152x576 with 1 Axes>"
      ]
     },
     "metadata": {},
     "output_type": "display_data"
    },
    {
     "data": {
      "image/png": "[encoded data removed]",
      "text/plain": [
       "<Figure size 1152x576 with 1 Axes>"
      ]
     },
     "metadata": {},
     "output_type": "display_data"
    },
    {
     "data": {
      "image/png": "[encoded data removed]",
      "text/plain": [
       "<Figure size 1152x576 with 1 Axes>"
      ]
     },
     "metadata": {},
     "output_type": "display_data"
    },
    {
     "data": {
      "image/png": "[encoded data removed]",
      "text/plain": [
       "<Figure size 1152x576 with 1 Axes>"
      ]
     },
     "metadata": {},
     "output_type": "display_data"
    },
    {
     "data": {
      "image/png": "[encoded data removed]",
      "text/plain": [
       "<Figure size 1152x576 with 1 Axes>"
      ]
     },
     "metadata": {},
     "output_type": "display_data"
    },
    {
     "data": {
      "image/png": "[encoded data removed]",
      "text/plain": [
       "<Figure size 1152x576 with 1 Axes>"
      ]
     },
     "metadata": {},
     "output_type": "display_data"
    }
   ],
   "source": [
    "word_chart(df_united['text_cleaned'],'Top words in United Airline Negative Sentiments')\n",
    "word_chart(df_usairways['text_cleaned'], 'Top words in US Airways Negative Sentiments')\n",
    "word_chart(df_american['text_cleaned'],'Top words in Americal Airline Negative Sentiments')\n",
    "word_chart(df_southwest['text_cleaned'], 'Top words in Southwest Negative Sentiments')\n",
    "word_chart(df_delta['text_cleaned'],'Top words in Delta Airline Negative Sentiments')\n",
    "word_chart(df_virgin['text_cleaned'], 'Top words in Virgin America Negative Sentiments')"
   ]
  },
  {
   "cell_type": "code",
   "execution_count": null,
   "metadata": {},
   "outputs": [],
   "source": [
    "#From above chart its seen that theme around differet airlines are almost same i.e delay  in flights,\n",
    "#hold for long time, baggage relates issues, poor customer service, cancelled flights.\n",
    "#For Virgin America airline which have lowest negative sentiments also have \n",
    "#different themes i.e website down, booking related problems "
   ]
  }
 ],
 "metadata": {
  "kernelspec": {
   "display_name": "Python 3",
   "language": "python",
   "name": "python3"
  },
  "language_info": {
   "codemirror_mode": {
    "name": "ipython",
    "version": 3
   },
   "file_extension": ".py",
   "mimetype": "text/x-python",
   "name": "python",
   "nbconvert_exporter": "python",
   "pygments_lexer": "ipython3",
   "version": "3.6.5"
  }
 },
 "nbformat": 4,
 "nbformat_minor": 2
}
